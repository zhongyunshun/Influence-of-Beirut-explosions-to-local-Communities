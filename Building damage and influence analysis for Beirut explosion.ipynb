{
 "cells": [
  {
   "cell_type": "code",
   "execution_count": 1,
   "metadata": {
    "pycharm": {
     "is_executing": false
    }
   },
   "outputs": [],
   "source": [
    "import geopy as geopy\n",
    "import numpy as np\n",
    "import pandas as pd\n",
    "import matplotlib.pyplot as plt\n",
    "import seaborn as sns\n",
    "from datetime import date, datetime\n",
    "import statsmodels.api as sm\n",
    "from statsmodels.formula.api import ols\n",
    "from scipy import stats\n",
    "import os\n",
    "import warnings\n",
    "warnings.filterwarnings(\"ignore\")\n",
    "%matplotlib inline"
   ]
  },
  {
   "cell_type": "markdown",
   "metadata": {},
   "source": [
    "# Introduction"
   ]
  },
  {
   "cell_type": "markdown",
   "metadata": {},
   "source": [
    "Shortly after 18:00 on August 4, the roof of a warehouse at the Port of Beirut caught alight and there was a large initial explosion. About 30 seconds later, there was a colossal explosion that sent a mushroom cloud into the air and a supersonic blastwave radiating through the city. That blast wave levelled buildings near the port and caused extensive damage over much of the buildings of the capital. Estimating the damage level of these buildings is important for the recovery of communities influenced by this explosion. This project focus on measuring impact and building resilience in infrastructures and communities in Beirut and divided into three parts:\n",
    "1. Predict damage of each building according to available survey data.\n",
    "2. Predict the damage of buildings to local communities.\n",
    "3. Observe and predict how to recovery develops and the interaction between communities and infrastructure.\n",
    "\n",
    "The first part is divided into several steps:\n",
    "1. Getting the data and data cleaning.\n",
    "2. Exploratory data analysis.\n",
    "3. Building machine learning models to predict building damage level.\n",
    "4. Verify models using new data and model optimization."
   ]
  },
  {
   "cell_type": "markdown",
   "metadata": {},
   "source": [
    "# Getting The Data"
   ]
  },
  {
   "cell_type": "markdown",
   "metadata": {},
   "source": [
    "To begin this analysis we get data about Beirut explosion from [OML Consolidated Public Sheet](https://docs.google.com/spreadsheets/d/1V1NLhlyBFgrMBz57mrYt65YXmiO3Lt7tOhZwYz2Y8Eo/edit#gid=479015731) and will be using data from **Frontline Engineers** as first for exploratory data analysis. There is an [interactive map](https://openmaplebanon.org/) showing the damage condition for buildings and the *OML Consolidated Public Sheet* is also available there. To get the position for each building, we can use [Beirut Built Environment Database Base-map](https://aub.maps.arcgis.com/apps/webappviewer/index.html?id=1d3b43104a53450389dfcb79f9e88464)."
   ]
  },
  {
   "cell_type": "code",
   "execution_count": 2,
   "metadata": {
    "pycharm": {
     "is_executing": false
    }
   },
   "outputs": [],
   "source": [
    "#from ds100_utils import fetch_and_cache"
   ]
  },
  {
   "cell_type": "code",
   "execution_count": 3,
   "metadata": {
    "pycharm": {
     "is_executing": false
    }
   },
   "outputs": [],
   "source": [
    "#building_condition = fetch_and_cache(\"https://docs.google.com/spreadsheets/d/1V1NLhlyBFgrMBz57mrYt65YXmiO3Lt7tOhZwYz2Y8Eo/edit#gid=479015731?accessType=DOWNLOAD\",\n",
    "#                \"FrontLineEngineers.csv\", force=False)\n"
   ]
  },
  {
   "cell_type": "code",
   "execution_count": 4,
   "metadata": {
    "pycharm": {
     "is_executing": false
    }
   },
   "outputs": [],
   "source": [
    "#print(building_condition, \"is\",  os.path.getsize(building_condition) / 1e6, \"MB\")"
   ]
  },
  {
   "cell_type": "code",
   "execution_count": 5,
   "metadata": {
    "pycharm": {
     "is_executing": false
    }
   },
   "outputs": [],
   "source": [
    "building_condition = pd.read_csv('FrontLineEngineers.csv', warn_bad_lines=True) "
   ]
  },
  {
   "cell_type": "code",
   "execution_count": 6,
   "metadata": {
    "pycharm": {
     "is_executing": false
    },
    "scrolled": false
   },
   "outputs": [
    {
     "data": {
      "text/html": [
       "<div>\n",
       "<style scoped>\n",
       "    .dataframe tbody tr th:only-of-type {\n",
       "        vertical-align: middle;\n",
       "    }\n",
       "\n",
       "    .dataframe tbody tr th {\n",
       "        vertical-align: top;\n",
       "    }\n",
       "\n",
       "    .dataframe thead th {\n",
       "        text-align: right;\n",
       "    }\n",
       "</style>\n",
       "<table border=\"1\" class=\"dataframe\">\n",
       "  <thead>\n",
       "    <tr style=\"text-align: right;\">\n",
       "      <th></th>\n",
       "      <th>OML UID</th>\n",
       "      <th>Entity / Source</th>\n",
       "      <th>Survey Type</th>\n",
       "      <th>Status</th>\n",
       "      <th>Assignee</th>\n",
       "      <th>Neighborhood</th>\n",
       "      <th>Zone</th>\n",
       "      <th>Building condition</th>\n",
       "      <th>Lat</th>\n",
       "      <th>Long</th>\n",
       "      <th>...</th>\n",
       "      <th>Unnamed: 54</th>\n",
       "      <th>Unnamed: 55</th>\n",
       "      <th>Unnamed: 56</th>\n",
       "      <th>Unnamed: 57</th>\n",
       "      <th>Unnamed: 58</th>\n",
       "      <th>Unnamed: 59</th>\n",
       "      <th>Unnamed: 60</th>\n",
       "      <th>Unnamed: 61</th>\n",
       "      <th>Unnamed: 62</th>\n",
       "      <th>Unnamed: 63</th>\n",
       "    </tr>\n",
       "  </thead>\n",
       "  <tbody>\n",
       "    <tr>\n",
       "      <th>0</th>\n",
       "      <td>FE1</td>\n",
       "      <td>Frontline Engineers</td>\n",
       "      <td>Shelter</td>\n",
       "      <td>Unknown</td>\n",
       "      <td>NaN</td>\n",
       "      <td>NaN</td>\n",
       "      <td>NaN</td>\n",
       "      <td>Moderate Damage, repair needs to be done, No e...</td>\n",
       "      <td>33.891657</td>\n",
       "      <td>35.532464</td>\n",
       "      <td>...</td>\n",
       "      <td>NaN</td>\n",
       "      <td>NaN</td>\n",
       "      <td>NaN</td>\n",
       "      <td>NaN</td>\n",
       "      <td>NaN</td>\n",
       "      <td>NaN</td>\n",
       "      <td>NaN</td>\n",
       "      <td>NaN</td>\n",
       "      <td>NaN</td>\n",
       "      <td>Shelter</td>\n",
       "    </tr>\n",
       "    <tr>\n",
       "      <th>1</th>\n",
       "      <td>FE2</td>\n",
       "      <td>Frontline Engineers</td>\n",
       "      <td>Shelter</td>\n",
       "      <td>Unknown</td>\n",
       "      <td>NaN</td>\n",
       "      <td>NaN</td>\n",
       "      <td>NaN</td>\n",
       "      <td>Moderate Damage, repair needs to be done, No e...</td>\n",
       "      <td>33.891643</td>\n",
       "      <td>35.532471</td>\n",
       "      <td>...</td>\n",
       "      <td>NaN</td>\n",
       "      <td>NaN</td>\n",
       "      <td>NaN</td>\n",
       "      <td>NaN</td>\n",
       "      <td>NaN</td>\n",
       "      <td>NaN</td>\n",
       "      <td>NaN</td>\n",
       "      <td>NaN</td>\n",
       "      <td>NaN</td>\n",
       "      <td>NaN</td>\n",
       "    </tr>\n",
       "    <tr>\n",
       "      <th>2</th>\n",
       "      <td>FE3</td>\n",
       "      <td>Frontline Engineers</td>\n",
       "      <td>Shelter</td>\n",
       "      <td>Unknown</td>\n",
       "      <td>NaN</td>\n",
       "      <td>NaN</td>\n",
       "      <td>NaN</td>\n",
       "      <td>Moderate Damage, repair needs to be done, No e...</td>\n",
       "      <td>33.891640</td>\n",
       "      <td>35.532470</td>\n",
       "      <td>...</td>\n",
       "      <td>NaN</td>\n",
       "      <td>NaN</td>\n",
       "      <td>NaN</td>\n",
       "      <td>NaN</td>\n",
       "      <td>NaN</td>\n",
       "      <td>NaN</td>\n",
       "      <td>NaN</td>\n",
       "      <td>NaN</td>\n",
       "      <td>NaN</td>\n",
       "      <td>NaN</td>\n",
       "    </tr>\n",
       "    <tr>\n",
       "      <th>3</th>\n",
       "      <td>FE4</td>\n",
       "      <td>Frontline Engineers</td>\n",
       "      <td>Shelter</td>\n",
       "      <td>Unknown</td>\n",
       "      <td>NaN</td>\n",
       "      <td>NaN</td>\n",
       "      <td>NaN</td>\n",
       "      <td>NaN</td>\n",
       "      <td>33.893270</td>\n",
       "      <td>35.533197</td>\n",
       "      <td>...</td>\n",
       "      <td>NaN</td>\n",
       "      <td>NaN</td>\n",
       "      <td>NaN</td>\n",
       "      <td>NaN</td>\n",
       "      <td>NaN</td>\n",
       "      <td>NaN</td>\n",
       "      <td>NaN</td>\n",
       "      <td>NaN</td>\n",
       "      <td>NaN</td>\n",
       "      <td>NaN</td>\n",
       "    </tr>\n",
       "  </tbody>\n",
       "</table>\n",
       "<p>4 rows × 64 columns</p>\n",
       "</div>"
      ],
      "text/plain": [
       "  OML UID      Entity / Source Survey Type   Status  Assignee  Neighborhood  \\\n",
       "0     FE1  Frontline Engineers     Shelter  Unknown       NaN           NaN   \n",
       "1     FE2  Frontline Engineers     Shelter  Unknown       NaN           NaN   \n",
       "2     FE3  Frontline Engineers     Shelter  Unknown       NaN           NaN   \n",
       "3     FE4  Frontline Engineers     Shelter  Unknown       NaN           NaN   \n",
       "\n",
       "   Zone                                 Building condition        Lat  \\\n",
       "0   NaN  Moderate Damage, repair needs to be done, No e...  33.891657   \n",
       "1   NaN  Moderate Damage, repair needs to be done, No e...  33.891643   \n",
       "2   NaN  Moderate Damage, repair needs to be done, No e...  33.891640   \n",
       "3   NaN                                                NaN  33.893270   \n",
       "\n",
       "        Long  ...  Unnamed: 54 Unnamed: 55 Unnamed: 56 Unnamed: 57  \\\n",
       "0  35.532464  ...          NaN         NaN         NaN         NaN   \n",
       "1  35.532471  ...          NaN         NaN         NaN         NaN   \n",
       "2  35.532470  ...          NaN         NaN         NaN         NaN   \n",
       "3  35.533197  ...          NaN         NaN         NaN         NaN   \n",
       "\n",
       "  Unnamed: 58 Unnamed: 59 Unnamed: 60 Unnamed: 61 Unnamed: 62 Unnamed: 63  \n",
       "0         NaN         NaN         NaN         NaN         NaN     Shelter  \n",
       "1         NaN         NaN         NaN         NaN         NaN         NaN  \n",
       "2         NaN         NaN         NaN         NaN         NaN         NaN  \n",
       "3         NaN         NaN         NaN         NaN         NaN         NaN  \n",
       "\n",
       "[4 rows x 64 columns]"
      ]
     },
     "execution_count": 6,
     "metadata": {},
     "output_type": "execute_result"
    }
   ],
   "source": [
    "building_condition.head(4)"
   ]
  },
  {
   "cell_type": "code",
   "execution_count": 7,
   "metadata": {
    "pycharm": {
     "is_executing": false
    }
   },
   "outputs": [
    {
     "name": "stdout",
     "output_type": "stream",
     "text": [
      "Rows: 398\n",
      "Columns: 64\n"
     ]
    }
   ],
   "source": [
    "print(\"Rows: {}\".format(building_condition.shape[0]))\n",
    "print(\"Columns: {}\".format(building_condition.shape[1]))"
   ]
  },
  {
   "cell_type": "code",
   "execution_count": 8,
   "metadata": {
    "pycharm": {
     "is_executing": false
    },
    "scrolled": true
   },
   "outputs": [
    {
     "name": "stdout",
     "output_type": "stream",
     "text": [
      "<class 'pandas.core.frame.DataFrame'>\n",
      "RangeIndex: 398 entries, 0 to 397\n",
      "Data columns (total 64 columns):\n",
      " #   Column                                                 Non-Null Count  Dtype  \n",
      "---  ------                                                 --------------  -----  \n",
      " 0   OML UID                                                398 non-null    object \n",
      " 1   Entity / Source                                        398 non-null    object \n",
      " 2   Survey Type                                            398 non-null    object \n",
      " 3   Status                                                 398 non-null    object \n",
      " 4   Assignee                                               0 non-null      float64\n",
      " 5   Neighborhood                                           0 non-null      float64\n",
      " 6   Zone                                                   0 non-null      float64\n",
      " 7   Building condition                                     126 non-null    object \n",
      " 8   Lat                                                    146 non-null    float64\n",
      " 9   Long                                                   146 non-null    float64\n",
      " 10  Address                                                146 non-null    float64\n",
      " 11  Building Entrance | مدخل البناية                       75 non-null     object \n",
      " 12  Building Door Entrance | باب المدخل البناية            76 non-null     object \n",
      " 13  Water Collection | خزان تجميع المياه                   59 non-null     object \n",
      " 14  Water Pump | مضخات مياه                                57 non-null     object \n",
      " 15  Water Distribution Tank | خزان توزيع مياه              57 non-null     object \n",
      " 16  Water Main Supply | امدادات رئيسية للمياه              57 non-null     object \n",
      " 17  Electricity Room | غرفة الكهرباء                       54 non-null     object \n",
      " 18  Electricity Main Supply | امدادات الكهرباء الرئيسية    56 non-null     object \n",
      " 19  Sanitation Main Supply | إمدادات الصرف الصحي الرئيسية  55 non-null     object \n",
      " 20  Sanitation Winter Water | مياه الشتاء                  49 non-null     object \n",
      " 21  Building Glasses | زجاج المبنى                         78 non-null     object \n",
      " 22  Building HandRail | درابزين المبنى                     57 non-null     object \n",
      " 23  Building Balcony | برندات المبنى                       60 non-null     object \n",
      " 24  Building Exterior | تلبيس المبنى                       59 non-null     object \n",
      " 25  Building Structure Damage | جسم المبنى                 67 non-null     object \n",
      " 26  Building Surface Isolation | عزل المبنى                55 non-null     object \n",
      " 27  Building Roof | سطح المبنى                             56 non-null     object \n",
      " 28  Unnamed: 28                                            0 non-null      float64\n",
      " 29  Unnamed: 29                                            0 non-null      float64\n",
      " 30  Unnamed: 30                                            0 non-null      float64\n",
      " 31  Unnamed: 31                                            0 non-null      float64\n",
      " 32  Unnamed: 32                                            0 non-null      float64\n",
      " 33  Unnamed: 33                                            0 non-null      float64\n",
      " 34  Unnamed: 34                                            0 non-null      float64\n",
      " 35  Damaged Doors                                          67 non-null     object \n",
      " 36  Unnamed: 36                                            0 non-null      float64\n",
      " 37  Supplier UID                                           156 non-null    float64\n",
      " 38  Survey Date                                            156 non-null    object \n",
      " 39  Unnamed: 39                                            0 non-null      float64\n",
      " 40  Unnamed: 40                                            0 non-null      float64\n",
      " 41  Unnamed: 41                                            0 non-null      float64\n",
      " 42  Unnamed: 42                                            0 non-null      float64\n",
      " 43  Unnamed: 43                                            0 non-null      float64\n",
      " 44  Unnamed: 44                                            0 non-null      float64\n",
      " 45  Unnamed: 45                                            0 non-null      float64\n",
      " 46  Unnamed: 46                                            0 non-null      float64\n",
      " 47  Unnamed: 47                                            0 non-null      float64\n",
      " 48  Unnamed: 48                                            0 non-null      float64\n",
      " 49  Unnamed: 49                                            0 non-null      float64\n",
      " 50  Unnamed: 50                                            0 non-null      float64\n",
      " 51  Unnamed: 51                                            0 non-null      float64\n",
      " 52  Unnamed: 52                                            0 non-null      float64\n",
      " 53  Unnamed: 53                                            0 non-null      float64\n",
      " 54  Unnamed: 54                                            0 non-null      float64\n",
      " 55  Unnamed: 55                                            0 non-null      float64\n",
      " 56  Unnamed: 56                                            0 non-null      float64\n",
      " 57  Unnamed: 57                                            0 non-null      float64\n",
      " 58  Unnamed: 58                                            0 non-null      float64\n",
      " 59  Unnamed: 59                                            0 non-null      float64\n",
      " 60  Unnamed: 60                                            0 non-null      float64\n",
      " 61  Unnamed: 61                                            0 non-null      float64\n",
      " 62  Unnamed: 62                                            0 non-null      float64\n",
      " 63  Unnamed: 63                                            1 non-null      object \n",
      "dtypes: float64(39), object(25)\n",
      "memory usage: 199.1+ KB\n"
     ]
    }
   ],
   "source": [
    "building_condition.info()"
   ]
  },
  {
   "cell_type": "code",
   "execution_count": 9,
   "metadata": {
    "pycharm": {
     "is_executing": false
    }
   },
   "outputs": [
    {
     "data": {
      "text/plain": [
       "398"
      ]
     },
     "execution_count": 9,
     "metadata": {},
     "output_type": "execute_result"
    }
   ],
   "source": [
    "building_condition['OML UID'].nunique()"
   ]
  },
  {
   "cell_type": "code",
   "execution_count": 10,
   "metadata": {
    "pycharm": {
     "is_executing": false
    }
   },
   "outputs": [
    {
     "data": {
      "text/plain": [
       "0    Moderate Damage, repair needs to be done, No e...\n",
       "1    Moderate Damage, repair needs to be done, No e...\n",
       "2    Moderate Damage, repair needs to be done, No e...\n",
       "3                                                  NaN\n",
       "4    Heavy Damage, Evacuation needed repairs should...\n",
       "Name: Building condition, dtype: object"
      ]
     },
     "execution_count": 10,
     "metadata": {},
     "output_type": "execute_result"
    }
   ],
   "source": [
    "building_condition['Building condition'].head(5)"
   ]
  },
  {
   "cell_type": "code",
   "execution_count": 11,
   "metadata": {
    "pycharm": {
     "is_executing": false
    },
    "scrolled": true
   },
   "outputs": [
    {
     "data": {
      "text/plain": [
       "0    Minor | طفيف\n",
       "1    Minor | طفيف\n",
       "2    Minor | طفيف\n",
       "3             NaN\n",
       "4    Major | كبير\n",
       "Name: Building Entrance | مدخل البناية, dtype: object"
      ]
     },
     "execution_count": 11,
     "metadata": {},
     "output_type": "execute_result"
    }
   ],
   "source": [
    "building_condition['Building Entrance | مدخل البناية'].head(5)"
   ]
  },
  {
   "cell_type": "markdown",
   "metadata": {},
   "source": [
    "All unnamed columns only have null values and should be deleted. `OML UID` is unique for each building. I didn't understand what the `Address` means. Not sure how to use `Damaged Doors`. Only 126 buildings have the overall building condition written. \n",
    "<br><br>\n",
    "`Building condition` has 4 levels:\n",
    "1. **No Damage**, No evacuation\n",
    "2. **Moderate Damage**, repair needs to be done, No evacuation\n",
    "3. **Heavy Damage**, Evacuation needed repairs should be done as soon as possible \n",
    "4. **Major damage**, Evacuation needed for the Building and the Building nearby\n",
    "<br>\n",
    "\n",
    "Conditions for each part of the building, such as `Building Entrance` and `Building Door` has 4 levels:\n",
    "1. **Minor**\n",
    "2. **Major**\n",
    "3. **Severe**\n",
    "\n"
   ]
  },
  {
   "cell_type": "markdown",
   "metadata": {},
   "source": [
    "# Data Cleaning"
   ]
  },
  {
   "cell_type": "markdown",
   "metadata": {},
   "source": [
    "### 1. Delete all unnamed columns"
   ]
  },
  {
   "cell_type": "code",
   "execution_count": 12,
   "metadata": {
    "pycharm": {
     "is_executing": false
    }
   },
   "outputs": [
    {
     "name": "stdout",
     "output_type": "stream",
     "text": [
      "Rows: 398\n",
      "Columns: 31\n"
     ]
    }
   ],
   "source": [
    "# Delete all unnamed columns\n",
    "df = building_condition.drop([col for col in building_condition.columns if 'Unnamed' in col], axis=1)\n",
    "print(\"Rows: {}\".format(df.shape[0]))\n",
    "print(\"Columns: {}\".format(df.shape[1]))"
   ]
  },
  {
   "cell_type": "markdown",
   "metadata": {},
   "source": [
    "### 2. Delete all columns that don't have `Building condition`"
   ]
  },
  {
   "cell_type": "code",
   "execution_count": 13,
   "metadata": {
    "pycharm": {
     "is_executing": false
    }
   },
   "outputs": [
    {
     "name": "stdout",
     "output_type": "stream",
     "text": [
      "Rows: 126\n"
     ]
    }
   ],
   "source": [
    "df = df[~df['Building condition'].isnull()]\n",
    "print(\"Rows: {}\".format(df.shape[0]))"
   ]
  },
  {
   "cell_type": "markdown",
   "metadata": {},
   "source": [
    "### 3. Change all column names to English only"
   ]
  },
  {
   "cell_type": "code",
   "execution_count": 14,
   "metadata": {
    "pycharm": {
     "is_executing": false
    },
    "scrolled": true
   },
   "outputs": [],
   "source": [
    "import re\n",
    "colname_english = df.columns.str.encode('ascii', 'ignore').str.decode('ascii')\n",
    "colname_english = colname_english.str.replace(' \\|  ','')"
   ]
  },
  {
   "cell_type": "code",
   "execution_count": 15,
   "metadata": {
    "pycharm": {
     "is_executing": false
    }
   },
   "outputs": [
    {
     "data": {
      "text/plain": [
       "Index(['OML UID', 'Entity / Source', 'Survey Type', 'Status', 'Assignee',\n",
       "       'Neighborhood', 'Zone', 'Building condition', 'Lat', 'Long', 'Address',\n",
       "       'Building Entrance', 'Building Door Entrance ', 'Water Collection ',\n",
       "       'Water Pump', 'Water Distribution Tank ', 'Water Main Supply ',\n",
       "       'Electricity Room', 'Electricity Main Supply ',\n",
       "       'Sanitation Main Supply  ', 'Sanitation Winter Water',\n",
       "       'Building Glasses', 'Building HandRail', 'Building Balcony',\n",
       "       'Building Exterior', 'Building Structure Damage',\n",
       "       'Building Surface Isolation', 'Building Roof', 'Damaged Doors',\n",
       "       'Supplier UID', 'Survey Date'],\n",
       "      dtype='object')"
      ]
     },
     "execution_count": 15,
     "metadata": {},
     "output_type": "execute_result"
    }
   ],
   "source": [
    "#rename\n",
    "df.columns = colname_english\n",
    "df.columns"
   ]
  },
  {
   "cell_type": "markdown",
   "metadata": {},
   "source": [
    "### 4. Map `Building condition` to numerical levels (1-4) and Conditions for each part of the building to numerical levels (1-3)\n",
    "\n",
    "1: **No Damage**, No evacuation\n",
    "<br>\n",
    "2: **Moderate Damage**, repair needs to be done, No evacuation\n",
    "<br>\n",
    "3: **Heavy Damage**, Evacuation needed repairs should be done as soon as possible \n",
    "<br>\n",
    "4: **Major damage**, Evacuation needed for the Building and the Building nearby\n",
    "\n",
    "1: **Minor**\n",
    "<br>\n",
    "2: **Major**\n",
    "<br>\n",
    "3: **Severe**"
   ]
  },
  {
   "cell_type": "code",
   "execution_count": 16,
   "metadata": {
    "pycharm": {
     "is_executing": false
    },
    "scrolled": true
   },
   "outputs": [],
   "source": [
    "\n",
    "bc_mapping = {\"No Damage, No evacuation\":1, \n",
    "              \"Moderate Damage, repair needs to be done, No evacuation\":2, \n",
    "              \"Heavy Damage, Evacuation needed repairs should be done as soon as possible \":3, \n",
    "              \"Major damage, Evacuation needed for the Building and the Building nearby\":4}\n",
    "df['building_condition_num'] = df['Building condition'].map(bc_mapping)"
   ]
  },
  {
   "cell_type": "code",
   "execution_count": 17,
   "metadata": {
    "pycharm": {
     "is_executing": false
    },
    "scrolled": true
   },
   "outputs": [
    {
     "data": {
      "text/plain": [
       "Moderate Damage, repair needs to be done, No evacuation                        86\n",
       "No Damage, No evacuation                                                       29\n",
       "Heavy Damage, Evacuation needed repairs should be done as soon as possible      6\n",
       "Major damage, Evacuation needed for the Building and the Building nearby        5\n",
       "Name: Building condition, dtype: int64"
      ]
     },
     "execution_count": 17,
     "metadata": {},
     "output_type": "execute_result"
    }
   ],
   "source": [
    "df['Building condition'].value_counts()"
   ]
  },
  {
   "cell_type": "code",
   "execution_count": 18,
   "metadata": {
    "pycharm": {
     "is_executing": false
    },
    "scrolled": true
   },
   "outputs": [
    {
     "data": {
      "text/plain": [
       "2    86\n",
       "1    29\n",
       "3     6\n",
       "4     5\n",
       "Name: building_condition_num, dtype: int64"
      ]
     },
     "execution_count": 18,
     "metadata": {},
     "output_type": "execute_result"
    }
   ],
   "source": [
    "df['building_condition_num'].value_counts()"
   ]
  },
  {
   "cell_type": "code",
   "execution_count": 19,
   "metadata": {
    "pycharm": {
     "is_executing": false
    },
    "scrolled": true
   },
   "outputs": [],
   "source": [
    "\n",
    "for col in df.loc[:, 'Building Entrance':'Building Roof']:\n",
    "    df[col] = (df[col].str.replace('.*Minor.*', '1'))\n",
    "    df[col] = (df[col].str.replace('.*Major.*', '2'))\n",
    "    df[col] = (df[col].str.replace('.*Severe.*', '3'))"
   ]
  },
  {
   "cell_type": "code",
   "execution_count": 20,
   "metadata": {
    "pycharm": {
     "is_executing": false
    }
   },
   "outputs": [],
   "source": [
    "string_to_int_mapping = {'1':1, '2':2, '3':3}\n",
    "for col in df.loc[:, 'Building Entrance':'Building Roof']:\n",
    "    df[col] = df[col].map(string_to_int_mapping)"
   ]
  },
  {
   "cell_type": "markdown",
   "metadata": {},
   "source": [
    "### 5. Change Survey date to datetime object for easier usage"
   ]
  },
  {
   "cell_type": "code",
   "execution_count": 21,
   "metadata": {
    "pycharm": {
     "is_executing": false
    }
   },
   "outputs": [],
   "source": [
    "from datetime import datetime\n",
    "df[\"Survey Date\"] = pd.to_datetime(df[\"Survey Date\"])"
   ]
  },
  {
   "cell_type": "code",
   "execution_count": 22,
   "metadata": {
    "pycharm": {
     "is_executing": false
    }
   },
   "outputs": [
    {
     "name": "stdout",
     "output_type": "stream",
     "text": [
      "<class 'pandas.core.frame.DataFrame'>\n",
      "Int64Index: 126 entries, 0 to 155\n",
      "Data columns (total 32 columns):\n",
      " #   Column                      Non-Null Count  Dtype                                \n",
      "---  ------                      --------------  -----                                \n",
      " 0   OML UID                     126 non-null    object                               \n",
      " 1   Entity / Source             126 non-null    object                               \n",
      " 2   Survey Type                 126 non-null    object                               \n",
      " 3   Status                      126 non-null    object                               \n",
      " 4   Assignee                    0 non-null      float64                              \n",
      " 5   Neighborhood                0 non-null      float64                              \n",
      " 6   Zone                        0 non-null      float64                              \n",
      " 7   Building condition          126 non-null    object                               \n",
      " 8   Lat                         123 non-null    float64                              \n",
      " 9   Long                        123 non-null    float64                              \n",
      " 10  Address                     123 non-null    float64                              \n",
      " 11  Building Entrance           67 non-null     float64                              \n",
      " 12  Building Door Entrance      67 non-null     float64                              \n",
      " 13  Water Collection            53 non-null     float64                              \n",
      " 14  Water Pump                  51 non-null     float64                              \n",
      " 15  Water Distribution Tank     51 non-null     float64                              \n",
      " 16  Water Main Supply           51 non-null     float64                              \n",
      " 17  Electricity Room            49 non-null     float64                              \n",
      " 18  Electricity Main Supply     49 non-null     float64                              \n",
      " 19  Sanitation Main Supply      50 non-null     float64                              \n",
      " 20  Sanitation Winter Water     44 non-null     float64                              \n",
      " 21  Building Glasses            70 non-null     float64                              \n",
      " 22  Building HandRail           51 non-null     float64                              \n",
      " 23  Building Balcony            53 non-null     float64                              \n",
      " 24  Building Exterior           53 non-null     float64                              \n",
      " 25  Building Structure Damage   61 non-null     float64                              \n",
      " 26  Building Surface Isolation  49 non-null     float64                              \n",
      " 27  Building Roof               50 non-null     float64                              \n",
      " 28  Damaged Doors               56 non-null     object                               \n",
      " 29  Supplier UID                126 non-null    float64                              \n",
      " 30  Survey Date                 126 non-null    datetime64[ns, pytz.FixedOffset(180)]\n",
      " 31  building_condition_num      126 non-null    int64                                \n",
      "dtypes: datetime64[ns, pytz.FixedOffset(180)](1), float64(24), int64(1), object(6)\n",
      "memory usage: 32.5+ KB\n"
     ]
    }
   ],
   "source": [
    "df.info()"
   ]
  },
  {
   "cell_type": "markdown",
   "metadata": {},
   "source": [
    "# Exploratory Data Analysis"
   ]
  },
  {
   "cell_type": "markdown",
   "metadata": {},
   "source": [
    "### Number of buildings in different damage conditions"
   ]
  },
  {
   "cell_type": "code",
   "execution_count": 23,
   "metadata": {
    "pycharm": {
     "is_executing": false
    },
    "scrolled": false
   },
   "outputs": [
    {
     "data": {
      "image/png": "[encoded data removed]",
      "text/plain": [
       "<Figure size 432x288 with 1 Axes>"
      ]
     },
     "metadata": {
      "needs_background": "light"
     },
     "output_type": "display_data"
    }
   ],
   "source": [
    "\n",
    "plt.hist(df['building_condition_num']);"
   ]
  },
  {
   "cell_type": "markdown",
   "metadata": {},
   "source": [
    "Most buildings are no or maderate damage."
   ]
  },
  {
   "cell_type": "markdown",
   "metadata": {},
   "source": [
    "### Plot of relationship between `Building condition` and damage of each part of the building"
   ]
  },
  {
   "cell_type": "code",
   "execution_count": 24,
   "metadata": {
    "pycharm": {
     "is_executing": false
    },
    "scrolled": true
   },
   "outputs": [
    {
     "data": {
      "image/png": "[encoded data removed]",
      "text/plain": [
       "<Figure size 432x288 with 1 Axes>"
      ]
     },
     "metadata": {
      "needs_background": "light"
     },
     "output_type": "display_data"
    },
    {
     "data": {
      "image/png": "[encoded data removed]",
      "text/plain": [
       "<Figure size 432x288 with 1 Axes>"
      ]
     },
     "metadata": {
      "needs_background": "light"
     },
     "output_type": "display_data"
    },
    {
     "data": {
      "image/png": "[encoded data removed]",
      "text/plain": [
       "<Figure size 432x288 with 1 Axes>"
      ]
     },
     "metadata": {
      "needs_background": "light"
     },
     "output_type": "display_data"
    },
    {
     "data": {
      "image/png": "[encoded data removed]",
      "text/plain": [
       "<Figure size 432x288 with 1 Axes>"
      ]
     },
     "metadata": {
      "needs_background": "light"
     },
     "output_type": "display_data"
    },
    {
     "data": {
      "image/png": "[encoded data removed]",
      "text/plain": [
       "<Figure size 432x288 with 1 Axes>"
      ]
     },
     "metadata": {
      "needs_background": "light"
     },
     "output_type": "display_data"
    },
    {
     "data": {
      "image/png": "[encoded data removed]",
      "text/plain": [
       "<Figure size 432x288 with 1 Axes>"
      ]
     },
     "metadata": {
      "needs_background": "light"
     },
     "output_type": "display_data"
    },
    {
     "data": {
      "image/png": "[encoded data removed]",
      "text/plain": [
       "<Figure size 432x288 with 1 Axes>"
      ]
     },
     "metadata": {
      "needs_background": "light"
     },
     "output_type": "display_data"
    },
    {
     "data": {
      "image/png": "[encoded data removed]",
      "text/plain": [
       "<Figure size 432x288 with 1 Axes>"
      ]
     },
     "metadata": {
      "needs_background": "light"
     },
     "output_type": "display_data"
    },
    {
     "data": {
      "image/png": "[encoded data removed]",
      "text/plain": [
       "<Figure size 432x288 with 1 Axes>"
      ]
     },
     "metadata": {
      "needs_background": "light"
     },
     "output_type": "display_data"
    },
    {
     "data": {
      "image/png": "[encoded data removed]",
      "text/plain": [
       "<Figure size 432x288 with 1 Axes>"
      ]
     },
     "metadata": {
      "needs_background": "light"
     },
     "output_type": "display_data"
    },
    {
     "data": {
      "image/png": "[encoded data removed]",
      "text/plain": [
       "<Figure size 432x288 with 1 Axes>"
      ]
     },
     "metadata": {
      "needs_background": "light"
     },
     "output_type": "display_data"
    },
    {
     "data": {
      "image/png": "[encoded data removed]",
      "text/plain": [
       "<Figure size 432x288 with 1 Axes>"
      ]
     },
     "metadata": {
      "needs_background": "light"
     },
     "output_type": "display_data"
    },
    {
     "data": {
      "image/png": "[encoded data removed]",
      "text/plain": [
       "<Figure size 432x288 with 1 Axes>"
      ]
     },
     "metadata": {
      "needs_background": "light"
     },
     "output_type": "display_data"
    },
    {
     "data": {
      "image/png": "[encoded data removed]",
      "text/plain": [
       "<Figure size 432x288 with 1 Axes>"
      ]
     },
     "metadata": {
      "needs_background": "light"
     },
     "output_type": "display_data"
    },
    {
     "data": {
      "image/png": "[encoded data removed]",
      "text/plain": [
       "<Figure size 432x288 with 1 Axes>"
      ]
     },
     "metadata": {
      "needs_background": "light"
     },
     "output_type": "display_data"
    },
    {
     "data": {
      "image/png": "[encoded data removed]",
      "text/plain": [
       "<Figure size 432x288 with 1 Axes>"
      ]
     },
     "metadata": {
      "needs_background": "light"
     },
     "output_type": "display_data"
    },
    {
     "data": {
      "image/png": "[encoded data removed]",
      "text/plain": [
       "<Figure size 432x288 with 1 Axes>"
      ]
     },
     "metadata": {
      "needs_background": "light"
     },
     "output_type": "display_data"
    }
   ],
   "source": [
    "for col in df.loc[:, 'Building Entrance':'Building Roof']:\n",
    "    plt.figure()\n",
    "    #plt.scatter(x=df[~df[col].isnull()][col],y=df[~df[col].isnull()]['building_condition_num']);\n",
    "    plt.scatter(df[~df[col].isnull()][col], \n",
    "            df[~df[col].isnull()]['building_condition_num'], \n",
    "            marker='o',\n",
    "            alpha=0.35,\n",
    "            facecolor='SteelBlue',\n",
    "            edgecolor='None')\n",
    "    plt.xlabel(col)\n",
    "    plt.ylabel('building_condition_num')\n",
    "    plt.show()"
   ]
  },
  {
   "cell_type": "markdown",
   "metadata": {},
   "source": [
    "### Plot of relationship between `Building condition` and sum of the damage for each part\n",
    "(may not reflect the relationship well due to many missing values for the damage for each part)"
   ]
  },
  {
   "cell_type": "code",
   "execution_count": 25,
   "metadata": {
    "pycharm": {
     "is_executing": false
    }
   },
   "outputs": [],
   "source": [
    "df['Sum of sub damage'] = 0\n",
    "for col in df.loc[:, 'Building Entrance':'Building Roof']:\n",
    "    df['Sum of sub damage'] += df[col]\n",
    "    "
   ]
  },
  {
   "cell_type": "code",
   "execution_count": 26,
   "metadata": {
    "pycharm": {
     "is_executing": false
    }
   },
   "outputs": [
    {
     "data": {
      "text/plain": [
       "Text(0, 0.5, 'building_condition_num')"
      ]
     },
     "execution_count": 26,
     "metadata": {},
     "output_type": "execute_result"
    },
    {
     "data": {
      "image/png": "[encoded data removed]",
      "text/plain": [
       "<Figure size 432x288 with 1 Axes>"
      ]
     },
     "metadata": {
      "needs_background": "light"
     },
     "output_type": "display_data"
    }
   ],
   "source": [
    "plt.scatter(x=df[~df['Sum of sub damage'].isnull()]['Sum of sub damage'],y=df[~df['Sum of sub damage'].isnull()]['building_condition_num']);\n",
    "plt.xlabel('Sum of sub damage')\n",
    "plt.ylabel('building_condition_num')\n"
   ]
  },
  {
   "cell_type": "code",
   "execution_count": 27,
   "metadata": {
    "pycharm": {
     "is_executing": false
    }
   },
   "outputs": [
    {
     "name": "stdout",
     "output_type": "stream",
     "text": [
      "Number of buildings that have all subdamage recorded are: 39\n"
     ]
    }
   ],
   "source": [
    "print(\"Number of buildings that have all subdamage recorded are: {}\".format(len(df['Sum of sub damage'].dropna())))"
   ]
  },
  {
   "cell_type": "markdown",
   "metadata": {},
   "source": [
    "### Interactive heatmap for FrontLine Engineer data with latitude and longitude"
   ]
  },
  {
   "cell_type": "code",
   "execution_count": 28,
   "metadata": {
    "pycharm": {
     "is_executing": false
    },
    "scrolled": false
   },
   "outputs": [
    {
     "data": {
      "text/html": [
       "<div style=\"width:100%;\"><div style=\"position:relative;width:100%;height:0;padding-bottom:60%;\"><span style=\"color:#565656\">Make this Notebook Trusted to load map: File -> Trust Notebook</span><iframe src=\"about:blank\" style=\"position:absolute;width:100%;height:100%;left:0;top:0;border:none !important;\" data-html=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 onload=\"this.contentDocument.open();this.contentDocument.write(atob(this.getAttribute('data-html')));this.contentDocument.close();\" allowfullscreen webkitallowfullscreen mozallowfullscreen></iframe></div></div>"
      ],
      "text/plain": [
       "<folium.folium.Map at 0x1a1e3e5710>"
      ]
     },
     "execution_count": 28,
     "metadata": {},
     "output_type": "execute_result"
    }
   ],
   "source": [
    "import folium\n",
    "import folium.plugins\n",
    "\n",
    "coords_center = (33.901389, 35.518889)\n",
    "fl_map = folium.Map(location=coords_center, zoom_start=13)\n",
    "locs = df[['Lat', 'Long']].astype('float').dropna().values\n",
    "heatmap = folium.plugins.HeatMap(locs.tolist(), radius=10)\n",
    "fl_map.add_child(heatmap)"
   ]
  },
  {
   "cell_type": "markdown",
   "metadata": {},
   "source": [
    "### Map of different building damage level with coordinate"
   ]
  },
  {
   "cell_type": "markdown",
   "metadata": {},
   "source": [
    "1: No Damage, No evacuation"
   ]
  },
  {
   "cell_type": "code",
   "execution_count": 29,
   "metadata": {
    "pycharm": {
     "is_executing": false
    }
   },
   "outputs": [
    {
     "data": {
      "text/html": [
       "<div style=\"width:100%;\"><div style=\"position:relative;width:100%;height:0;padding-bottom:60%;\"><span style=\"color:#565656\">Make this Notebook Trusted to load map: File -> Trust Notebook</span><iframe src=\"about:blank\" style=\"position:absolute;width:100%;height:100%;left:0;top:0;border:none !important;\" data-html=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 onload=\"this.contentDocument.open();this.contentDocument.write(atob(this.getAttribute('data-html')));this.contentDocument.close();\" allowfullscreen webkitallowfullscreen mozallowfullscreen></iframe></div></div>"
      ],
      "text/plain": [
       "<folium.folium.Map at 0x1a1d021110>"
      ]
     },
     "execution_count": 29,
     "metadata": {},
     "output_type": "execute_result"
    }
   ],
   "source": [
    "locations = df[df['building_condition_num'] == 1][['Lat', 'Long']]\n",
    "\n",
    "cluster = folium.plugins.MarkerCluster()\n",
    "for _, r in locations.dropna().iterrows():\n",
    "    cluster.add_child(\n",
    "        folium.Marker([float(r[\"Lat\"]), float(r[\"Long\"])]))\n",
    "    \n",
    "one_map = folium.Map(location=coords_center, zoom_start=13)\n",
    "one_map.add_child(cluster)\n",
    "one_map"
   ]
  },
  {
   "cell_type": "markdown",
   "metadata": {},
   "source": [
    "2: Moderate Damage, repair needs to be done, No evacuation\n"
   ]
  },
  {
   "cell_type": "code",
   "execution_count": 30,
   "metadata": {
    "pycharm": {
     "is_executing": false
    }
   },
   "outputs": [
    {
     "data": {
      "text/html": [
       "<div style=\"width:100%;\"><div style=\"position:relative;width:100%;height:0;padding-bottom:60%;\"><span style=\"color:#565656\">Make this Notebook Trusted to load map: File -> Trust Notebook</span><iframe src=\"about:blank\" style=\"position:absolute;width:100%;height:100%;left:0;top:0;border:none !important;\" data-html=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 onload=\"this.contentDocument.open();this.contentDocument.write(atob(this.getAttribute('data-html')));this.contentDocument.close();\" allowfullscreen webkitallowfullscreen mozallowfullscreen></iframe></div></div>"
      ],
      "text/plain": [
       "<folium.folium.Map at 0x1a1d03ff10>"
      ]
     },
     "execution_count": 30,
     "metadata": {},
     "output_type": "execute_result"
    }
   ],
   "source": [
    "locations = df[df['building_condition_num'] == 2][['Lat', 'Long']]\n",
    "\n",
    "cluster = folium.plugins.MarkerCluster()\n",
    "for _, r in locations.dropna().iterrows():\n",
    "    cluster.add_child(\n",
    "        folium.Marker([float(r[\"Lat\"]), float(r[\"Long\"])]))\n",
    "    \n",
    "one_map = folium.Map(location=coords_center, zoom_start=13)\n",
    "one_map.add_child(cluster)\n",
    "one_map"
   ]
  },
  {
   "cell_type": "markdown",
   "metadata": {},
   "source": [
    "3: Heavy Damage, Evacuation needed repairs should be done as soon as possible"
   ]
  },
  {
   "cell_type": "code",
   "execution_count": 31,
   "metadata": {
    "pycharm": {
     "is_executing": false
    }
   },
   "outputs": [
    {
     "data": {
      "text/html": [
       "<div style=\"width:100%;\"><div style=\"position:relative;width:100%;height:0;padding-bottom:60%;\"><span style=\"color:#565656\">Make this Notebook Trusted to load map: File -> Trust Notebook</span><iframe src=\"about:blank\" style=\"position:absolute;width:100%;height:100%;left:0;top:0;border:none !important;\" data-html=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 onload=\"this.contentDocument.open();this.contentDocument.write(atob(this.getAttribute('data-html')));this.contentDocument.close();\" allowfullscreen webkitallowfullscreen mozallowfullscreen></iframe></div></div>"
      ],
      "text/plain": [
       "<folium.folium.Map at 0x1a1cffa090>"
      ]
     },
     "execution_count": 31,
     "metadata": {},
     "output_type": "execute_result"
    }
   ],
   "source": [
    "locations = df[df['building_condition_num'] == 3][['Lat', 'Long']]\n",
    "\n",
    "cluster = folium.plugins.MarkerCluster()\n",
    "for _, r in locations.dropna().iterrows():\n",
    "    cluster.add_child(\n",
    "        folium.Marker([float(r[\"Lat\"]), float(r[\"Long\"])]))\n",
    "    \n",
    "one_map = folium.Map(location=coords_center, zoom_start=13)\n",
    "one_map.add_child(cluster)\n",
    "one_map"
   ]
  },
  {
   "cell_type": "markdown",
   "metadata": {},
   "source": [
    "4: Major damage, Evacuation needed for the Building and the Building nearby"
   ]
  },
  {
   "cell_type": "code",
   "execution_count": 32,
   "metadata": {
    "pycharm": {
     "is_executing": false
    },
    "scrolled": false
   },
   "outputs": [
    {
     "data": {
      "text/html": [
       "<div style=\"width:100%;\"><div style=\"position:relative;width:100%;height:0;padding-bottom:60%;\"><span style=\"color:#565656\">Make this Notebook Trusted to load map: File -> Trust Notebook</span><iframe src=\"about:blank\" style=\"position:absolute;width:100%;height:100%;left:0;top:0;border:none !important;\" data-html=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 onload=\"this.contentDocument.open();this.contentDocument.write(atob(this.getAttribute('data-html')));this.contentDocument.close();\" allowfullscreen webkitallowfullscreen mozallowfullscreen></iframe></div></div>"
      ],
      "text/plain": [
       "<folium.folium.Map at 0x1a1d08ee90>"
      ]
     },
     "execution_count": 32,
     "metadata": {},
     "output_type": "execute_result"
    }
   ],
   "source": [
    "locations = df[df['building_condition_num'] == 4][['Lat', 'Long']]\n",
    "\n",
    "cluster = folium.plugins.MarkerCluster()\n",
    "for _, r in locations.dropna().iterrows():\n",
    "    cluster.add_child(\n",
    "        folium.Marker([float(r[\"Lat\"]), float(r[\"Long\"])]))\n",
    "    \n",
    "one_map = folium.Map(location=coords_center, zoom_start=13)\n",
    "one_map.add_child(cluster)\n",
    "one_map"
   ]
  },
  {
   "cell_type": "markdown",
   "metadata": {},
   "source": [
    "Generally speaking, damage level further away from the explosion center are lower."
   ]
  },
  {
   "cell_type": "markdown",
   "metadata": {},
   "source": [
    "### Add feature `distance` measuring the distance from a perticular building to explosion center \n",
    "Explosion center: (latitude 33.901389, longitude 35.518889) from [GeoHack - 2020 Beirut explosion](https://geohack.toolforge.org/geohack.php?pagename=2020_Beirut_explosion&params=33_54_05_N_35_31_08_E_region:lb_type:event)"
   ]
  },
  {
   "cell_type": "code",
   "execution_count": 33,
   "metadata": {
    "pycharm": {
     "is_executing": false
    }
   },
   "outputs": [],
   "source": [
    "import math\n",
    "# Get distance in km\n",
    "def get_distance(lat_1, lng_1, lat_2, lng_2): \n",
    "    lng_1, lat_1, lng_2, lat_2 = map(math.radians, [lng_1, lat_1, lng_2, lat_2])\n",
    "    d_lat = lat_2 - lat_1\n",
    "    d_lng = lng_2 - lng_1 \n",
    "\n",
    "    temp = (  \n",
    "         math.sin(d_lat / 2) ** 2 \n",
    "       + math.cos(lat_1) \n",
    "       * math.cos(lat_2) \n",
    "       * math.sin(d_lng / 2) ** 2\n",
    "    )\n",
    "\n",
    "    return 6373.0 * (2 * math.atan2(math.sqrt(temp), math.sqrt(1 - temp)))\n"
   ]
  },
  {
   "cell_type": "code",
   "execution_count": 34,
   "metadata": {
    "pycharm": {
     "is_executing": false
    },
    "scrolled": true
   },
   "outputs": [],
   "source": [
    "# Code calculating distance using coordinates accroding to Haversine formula, which assumes the earth is a sphere\n",
    "import geopy.distance\n",
    "\n",
    "coords_center = (33.901389, 35.518889)\n",
    "# df with known Lat and Long\n",
    "df2 = df[~df['Lat'].isnull()]\n",
    "coords_buildings = df2[['Lat', 'Long']]\n",
    "coords_buildings_list = list(coords_buildings.itertuples(index=False, name=None))\n",
    "df2['distance'] = 0\n",
    "for i in range(len(coords_buildings_list)):\n",
    "    # Hard coded to avoid NaN\n",
    "#     if coords_buildings[i][0] > 0 :\n",
    "    df2['distance'][i] = geopy.distance.distance(coords_center, coords_buildings_list[i]).km\n",
    "#     df2['distance'][i] = get_distance(coords_center[0], coords_center[1], \n",
    "#                                       coords_buildings_list[i][0], coords_buildings_list[i][1])\n",
    "#     else:\n",
    "#         df['distance'][i] = coords_buildings[i][0]\n",
    "        \n",
    "\n"
   ]
  },
  {
   "cell_type": "code",
   "execution_count": 35,
   "metadata": {
    "scrolled": true
   },
   "outputs": [
    {
     "name": "stdout",
     "output_type": "stream",
     "text": [
      "151 123\n"
     ]
    }
   ],
   "source": [
    "print(len(df2['distance']), len(df2['Lat']))"
   ]
  },
  {
   "cell_type": "code",
   "execution_count": 50,
   "metadata": {},
   "outputs": [
    {
     "name": "stdout",
     "output_type": "stream",
     "text": [
      "<class 'pandas.core.frame.DataFrame'>\n",
      "Int64Index: 123 entries, 0 to 155\n",
      "Data columns (total 34 columns):\n",
      " #   Column                      Non-Null Count  Dtype                                \n",
      "---  ------                      --------------  -----                                \n",
      " 0   OML UID                     123 non-null    object                               \n",
      " 1   Entity / Source             123 non-null    object                               \n",
      " 2   Survey Type                 123 non-null    object                               \n",
      " 3   Status                      123 non-null    object                               \n",
      " 4   Assignee                    0 non-null      float64                              \n",
      " 5   Neighborhood                0 non-null      float64                              \n",
      " 6   Zone                        0 non-null      float64                              \n",
      " 7   Building condition          123 non-null    object                               \n",
      " 8   Lat                         123 non-null    float64                              \n",
      " 9   Long                        123 non-null    float64                              \n",
      " 10  Address                     123 non-null    float64                              \n",
      " 11  Building Entrance           65 non-null     float64                              \n",
      " 12  Building Door Entrance      64 non-null     float64                              \n",
      " 13  Water Collection            51 non-null     float64                              \n",
      " 14  Water Pump                  50 non-null     float64                              \n",
      " 15  Water Distribution Tank     48 non-null     float64                              \n",
      " 16  Water Main Supply           48 non-null     float64                              \n",
      " 17  Electricity Room            47 non-null     float64                              \n",
      " 18  Electricity Main Supply     47 non-null     float64                              \n",
      " 19  Sanitation Main Supply      48 non-null     float64                              \n",
      " 20  Sanitation Winter Water     43 non-null     float64                              \n",
      " 21  Building Glasses            67 non-null     float64                              \n",
      " 22  Building HandRail           49 non-null     float64                              \n",
      " 23  Building Balcony            51 non-null     float64                              \n",
      " 24  Building Exterior           50 non-null     float64                              \n",
      " 25  Building Structure Damage   58 non-null     float64                              \n",
      " 26  Building Surface Isolation  47 non-null     float64                              \n",
      " 27  Building Roof               48 non-null     float64                              \n",
      " 28  Damaged Doors               55 non-null     object                               \n",
      " 29  Supplier UID                123 non-null    float64                              \n",
      " 30  Survey Date                 123 non-null    datetime64[ns, pytz.FixedOffset(180)]\n",
      " 31  building_condition_num      123 non-null    int64                                \n",
      " 32  Sum of sub damage           38 non-null     float64                              \n",
      " 33  distance                    123 non-null    int64                                \n",
      "dtypes: datetime64[ns, pytz.FixedOffset(180)](1), float64(25), int64(2), object(6)\n",
      "memory usage: 38.9+ KB\n"
     ]
    }
   ],
   "source": [
    "df2.info()"
   ]
  },
  {
   "cell_type": "code",
   "execution_count": 47,
   "metadata": {},
   "outputs": [
    {
     "data": {
      "text/plain": [
       "Int64Index([  0,   1,   2,   4,   5,   6,  14,  16,  18,  20,\n",
       "            ...\n",
       "             60,  61,  67,  85,  97, 100, 106, 113, 115, 117],\n",
       "           dtype='int64', length=151)"
      ]
     },
     "execution_count": 47,
     "metadata": {},
     "output_type": "execute_result"
    }
   ],
   "source": [
    "df2['distance'].index"
   ]
  },
  {
   "cell_type": "markdown",
   "metadata": {},
   "source": [
    "### Relationship between distance to explosion center to damage level"
   ]
  },
  {
   "cell_type": "code",
   "execution_count": 55,
   "metadata": {},
   "outputs": [],
   "source": [
    "index = df2['building_condition_num']"
   ]
  },
  {
   "cell_type": "code",
   "execution_count": 59,
   "metadata": {
    "scrolled": true
   },
   "outputs": [
    {
     "data": {
      "text/plain": [
       "Text(0, 0.5, 'building_condition_num')"
      ]
     },
     "execution_count": 59,
     "metadata": {},
     "output_type": "execute_result"
    },
    {
     "data": {
      "image/png": "[encoded data removed]",
      "text/plain": [
       "<Figure size 432x288 with 1 Axes>"
      ]
     },
     "metadata": {
      "needs_background": "light"
     },
     "output_type": "display_data"
    }
   ],
   "source": [
    "# plt.scatter(x=df2['distance'].loc[index], y=df2['building_condition_num']);\n",
    "plt.figure()\n",
    "plt.scatter(df2['distance'].loc[index], \n",
    "        df2['building_condition_num'], \n",
    "        marker='o',\n",
    "        alpha=0.25,\n",
    "        facecolor='SteelBlue',\n",
    "        edgecolor='None')\n",
    "plt.xlabel('distance')\n",
    "plt.ylabel('building_condition_num')"
   ]
  },
  {
   "cell_type": "markdown",
   "metadata": {},
   "source": [
    "# Principle Component Analysis"
   ]
  },
  {
   "cell_type": "code",
   "execution_count": null,
   "metadata": {},
   "outputs": [],
   "source": []
  },
  {
   "cell_type": "markdown",
   "metadata": {},
   "source": [
    "# Machine Learning"
   ]
  },
  {
   "cell_type": "code",
   "execution_count": null,
   "metadata": {},
   "outputs": [],
   "source": []
  }
 ],
 "metadata": {
  "kernelspec": {
   "display_name": "Python 3",
   "language": "python",
   "name": "python3"
  },
  "language_info": {
   "codemirror_mode": {
    "name": "ipython",
    "version": 3
   },
   "file_extension": ".py",
   "mimetype": "text/x-python",
   "name": "python",
   "nbconvert_exporter": "python",
   "pygments_lexer": "ipython3",
   "version": "3.7.6"
  },
  "pycharm": {
   "stem_cell": {
    "cell_type": "raw",
    "metadata": {
     "collapsed": false
    },
    "source": []
   }
  }
 },
 "nbformat": 4,
 "nbformat_minor": 4
}
